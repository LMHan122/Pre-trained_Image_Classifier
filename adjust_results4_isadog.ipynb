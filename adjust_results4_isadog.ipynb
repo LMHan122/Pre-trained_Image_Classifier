{
 "cells": [
  {
   "cell_type": "code",
   "execution_count": null,
   "id": "1055b29f-017c-4d6e-9615-677c705e0814",
   "metadata": {},
   "outputs": [],
   "source": [
    "def adjust_results4_isadog(results_dic, dogfile):\n",
    "    \"\"\"\n",
    "    Adjusts the results dictionary to determine if classifier correctly \n",
    "    classified images 'as a dog' or 'not a dog'.\n",
    "    Demonstrates if model architecture correctly classifies dog images even if\n",
    "    it gets dog breed wrong (not a match).\n",
    "    Parameters:\n",
    "      results_dic - Dictionary with 'key' as image filename and 'value' as a \n",
    "                    List. Where the list will contain the following items:\n",
    "                        index 0 = pet image label (string)\n",
    "                        index 1 = classifier label (string)\n",
    "                        index 2 = 1/0 (int)  where 1 = match between pet image\n",
    "                        classifer labels and 0 = no match between labels\n",
    "                ------ where index 3 & index 4 are added by this function -----\n",
    "                 NEW - index 3 = 1/0 (int)  where 1 = pet image 'is-a' dog and \n",
    "                            0 = pet Image 'is-NOT-a' dog. \n",
    "                 NEW - index 4 = 1/0 (int)  where 1 = Classifier classifies image \n",
    "                            'as-a' dog and 0 = Classifier classifies image  \n",
    "                            'as-NOT-a' dog.\n",
    "     dogfile - A text file that contains names of all dogs from the classifier\n",
    "               function and dog names from the pet image files.\n",
    "    Returns:\n",
    "           None - results_dic is mutable data type so no return needed.\n",
    "    \"\"\"     \n",
    "    with open(dogfile, 'r') as f:\n",
    "      lines = f.readlines()\n",
    "    \n",
    "    #creating dict\n",
    "    dognames_dict = dict([key.strip(), 1] for key in lines)\n",
    "\n",
    "    #comparing to pet image label\n",
    "    for value in results_dic.values():\n",
    "      if value[0] in dognames_dict:\n",
    "        value.append(1)\n",
    "      else:\n",
    "        value.append(0)\n",
    "        \n",
    "    #comparing to classifier label\n",
    "    for value in results_dic.values():\n",
    "      if value[1] in dognames_dict:\n",
    "        value.append(1)\n",
    "      else:\n",
    "        value.append(0)\n"
   ]
  }
 ],
 "metadata": {
  "kernelspec": {
   "display_name": "Python 3 (ipykernel)",
   "language": "python",
   "name": "python3"
  },
  "language_info": {
   "codemirror_mode": {
    "name": "ipython",
    "version": 3
   },
   "file_extension": ".py",
   "mimetype": "text/x-python",
   "name": "python",
   "nbconvert_exporter": "python",
   "pygments_lexer": "ipython3",
   "version": "3.10.14"
  }
 },
 "nbformat": 4,
 "nbformat_minor": 5
}
